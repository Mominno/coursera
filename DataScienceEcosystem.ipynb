{
 "cells": [
  {
   "cell_type": "markdown",
   "id": "975e9e22-95f9-48c5-a347-6995729bddda",
   "metadata": {},
   "source": [
    "<h1>Data Science Tools and Ecosystem </h1>"
   ]
  },
  {
   "cell_type": "markdown",
   "id": "047822e1-057e-4760-bd91-9ad727d2a66c",
   "metadata": {},
   "source": [
    "In this notebook, Data Science Tools and Ecosystem are summarized."
   ]
  },
  {
   "cell_type": "markdown",
   "id": "c0739513-ddcd-4c84-b93b-bf346c40cb01",
   "metadata": {},
   "source": [
    "<b>Objectives:</b>\n",
    "<ul>\n",
    "    <li>List popular languages for Data Science</li>\n",
    "    <li>List popular libraries</li>\n",
    "    <li>List popular tools</li>\n",
    "    <li>Convert minutes to hours</li>\n",
    "</ul>"
   ]
  },
  {
   "cell_type": "markdown",
   "id": "55c5f08a-d2ca-4ae6-9b72-a11480eed31c",
   "metadata": {},
   "source": [
    "Some of the popular languages that Data Scientists use are:\n",
    "<ol>\n",
    "    <li>R</li>\n",
    "    <li>Python</li>\n",
    "    <li>Java</li>\n",
    "    <li>Scala</li>\n",
    "</ol>"
   ]
  },
  {
   "cell_type": "markdown",
   "id": "45acd969-f5fe-4a11-a032-c298b98795a9",
   "metadata": {},
   "source": [
    "Some of the commonly used libraries used by Data Scientists include:\n",
    "<ol>\n",
    "    <li>sklearn</li>\n",
    "    <li>torch</li>\n",
    "    <li>tensorflow</li>\n",
    "    <li>pandas, numpy, seaborn</li>\n",
    "</ol>"
   ]
  },
  {
   "cell_type": "markdown",
   "id": "527ae56d-3488-4310-bb90-78639a4ba859",
   "metadata": {},
   "source": [
    "<table>\n",
    "<tr>\n",
    "<th>Data Science Tools</th>\n",
    "</tr>\n",
    "    <tr>\n",
    "    <td>Jupyter lab</td>\n",
    "        </tr>\n",
    "        <tr>\n",
    "    <td>Anaconda</td>\n",
    "            </tr>\n",
    "            <tr>\n",
    "    <td>RStudio</td>\n",
    "            </tr>\n",
    "</table>"
   ]
  },
  {
   "cell_type": "markdown",
   "id": "ca2b1b21-4edd-4f97-9a35-1f45eae24f09",
   "metadata": {},
   "source": [
    "<h3>Below are a few examples of evaluating arithmetic expressions in Python</h3>"
   ]
  },
  {
   "cell_type": "code",
   "execution_count": 2,
   "id": "95c6c266-2415-4d2a-a967-8fbad295160b",
   "metadata": {},
   "outputs": [
    {
     "data": {
      "text/plain": [
       "17"
      ]
     },
     "execution_count": 2,
     "metadata": {},
     "output_type": "execute_result"
    }
   ],
   "source": [
    "#  This a simple arithmetic expression to mutiply then add integers\n",
    "(3*4)+5"
   ]
  },
  {
   "cell_type": "code",
   "execution_count": 4,
   "id": "698c1ba8-f955-46b1-acb9-fd82de9117a6",
   "metadata": {},
   "outputs": [
    {
     "data": {
      "text/plain": [
       "3.3333333333333335"
      ]
     },
     "execution_count": 4,
     "metadata": {},
     "output_type": "execute_result"
    }
   ],
   "source": [
    "def minutes_to_hours(minutes):\n",
    "    return minutes/60\n",
    "\n",
    "# This will convert 200 minutes to hours by diving by 60\n",
    "minutes_to_hours(200)"
   ]
  },
  {
   "cell_type": "markdown",
   "id": "b9eaf578-8270-405d-9a90-9f282405ee2b",
   "metadata": {},
   "source": [
    "<h2>Author</h2>\n",
    "Filip Novotný"
   ]
  },
  {
   "cell_type": "code",
   "execution_count": null,
   "id": "e6b36a49-75ee-446a-b7a1-c31c04230c84",
   "metadata": {},
   "outputs": [],
   "source": []
  }
 ],
 "metadata": {
  "kernelspec": {
   "display_name": "Python 3 (ipykernel)",
   "language": "python",
   "name": "python3"
  },
  "language_info": {
   "codemirror_mode": {
    "name": "ipython",
    "version": 3
   },
   "file_extension": ".py",
   "mimetype": "text/x-python",
   "name": "python",
   "nbconvert_exporter": "python",
   "pygments_lexer": "ipython3",
   "version": "3.11.2"
  }
 },
 "nbformat": 4,
 "nbformat_minor": 5
}
